{
 "cells": [
  {
   "cell_type": "code",
   "execution_count": 1,
   "metadata": {},
   "outputs": [],
   "source": [
    "import numpy as np\n",
    "import math \n",
    "import pandas as pd\n",
    "import time\n",
    "import plotly.graph_objects as go\n",
    "import random\n",
    "import plotly.express as px"
   ]
  },
  {
   "cell_type": "markdown",
   "metadata": {},
   "source": [
    "### Function"
   ]
  },
  {
   "cell_type": "code",
   "execution_count": 2,
   "metadata": {},
   "outputs": [],
   "source": [
    "#Stableswap function that outputs token supply of Y, given X, A factor, and D (the sum of the two tokens when in parity)\n",
    "def sampleStable(x = 50,A = 10,D = 100, n = 2):\n",
    "    if A == 0:\n",
    "        return D-x\n",
    "    if x<=D:\n",
    "        y = (-(A*4)*(x**2) + A*D*x*n**n - D*x + math.sqrt(((A*n**n)*(x**2) - A*D*x*n**n + D*x)**2 + 4*A*x*n**n*((D**(n+1))/n**n)))/(2*A*x*n**n)\n",
    "        return y\n",
    "    if x>D:\n",
    "        print('D is greater than X, shit aint gonna work')\n",
    "\n",
    "#given the usdc side, and the price, output the bean and usdc in pool at price, and total assets (D) when in parity\n",
    "def stableSwap(usdc,pri,A = 10):\n",
    "    if A == 0:\n",
    "        #special case for XYK\n",
    "        return [usdc/pri, usdc, 2*math.sqrt(usdc*usdc/pri)]\n",
    "    inital_D = usdc*2\n",
    "    inital_bean = usdc\n",
    "    test = 1\n",
    "    #simple for loop that estimates condictions\n",
    "    for i in np.linspace(0,1,1000):\n",
    "        #TLDR: trying to find D: we start with the inital D, and increase it stepwise until we find the correct D, which then we can find the bean assoicated with it) \n",
    "        temp_D = inital_D/(1+i)\n",
    "        amtOut = sampleStable(usdc,A,temp_D,2) - sampleStable(usdc + 1,A,temp_D,2)\n",
    "        #since this is a guesstimate (an accurate one, but still), we simply compare them lmao\n",
    "        if test > abs(pri - (1/amtOut)):\n",
    "            test = abs(pri - (1/amtOut))\n",
    "        else:\n",
    "            break\n",
    "    newBean = sampleStable(usdc,A,temp_D,2)\n",
    "    D = temp_D\n",
    "    return [newBean,usdc,D]\n",
    "\n",
    "#given bean,usdc,D size, and A factor, output price \n",
    "def getPrice(usdc,D, amtIn = 1,A=10):\n",
    "    if A == 0:\n",
    "        y = D - usdc\n",
    "        k = usdc * y\n",
    "        usdc = usdc + amtIn\n",
    "        new_y = k/usdc\n",
    "        return amtIn/(y-new_y)\n",
    "\n",
    "    amtOut =sampleStable(usdc,A,D,2) - sampleStable(usdc + amtIn,A,D,2)\n",
    "    price = amtIn/amtOut\n",
    "    return price\n",
    "\n",
    "#given bean,usdc,D, gives the delta (mints needed to get back to peg)\n",
    "def getDelta(bean,usdc,D):\n",
    "    target = D/2\n",
    "    delta = target - bean\n",
    "    return delta \n",
    "# the amount of bean in the pool that can be acquired with 1% slippage given A factor\n",
    "# assumes slippage occurs at parity \n",
    "def slippageFinder(slippage, A):\n",
    "    priceblah = 0\n",
    "    i = 0\n",
    "    # estimate the % of bean you can obtain from the pool by comparing the price you got\n",
    "    while  abs(priceblah - (1 + slippage)) > 0.0001:\n",
    "        i = i + 1\n",
    "        priceblah = getPrice(1000,2000,i,A)\n",
    "    New_Curve_Price = getPrice(1000 + i,2000,1,A)\n",
    "    \n",
    "    \n",
    "    return [A,i/1000,New_Curve_Price]\n",
    "\n",
    "# not used \n",
    "\n",
    "#very rough calc, just takes the current mint, and finds the rough apr by exploiating it to a year \n",
    "def roughAPR(mints,stalk):\n",
    "    beanPerStalk = mints/stalk\n",
    "    APR = beanPerStalk*24*365\n",
    "\n",
    "#this simulates a cycle of demand (there may be times where there is a lot of mints, and times where there is no mints)\n",
    "def cycleMode(season,avgPrice): \n",
    "    price = (math.sin(2* season/24)/25 + avgPrice) + (math.sin(50*season*(random.randint(0, 100)/100))/100)\n",
    "    return price                "
   ]
  },
  {
   "cell_type": "markdown",
   "metadata": {},
   "source": [
    "### Examples"
   ]
  },
  {
   "cell_type": "code",
   "execution_count": 3,
   "metadata": {},
   "outputs": [
    {
     "name": "stdout",
     "output_type": "stream",
     "text": [
      "50.0\n",
      "1.0000476190907506\n",
      "[6735384.559373089, 10000000, 16719665.271966526]\n"
     ]
    }
   ],
   "source": [
    "# Sample to calculate how many of token Y given quantity of token X, and total assets.\n",
    "# Inital conditions: \n",
    "# Total sum of assets when in parity: 100\n",
    "# Amount of token X: 50\n",
    "# A factor: 10\n",
    "print(sampleStable())\n",
    "# Gets the price of a pool, \n",
    "# Inital conditions: 1000 USDC in the pool \n",
    "# 2000 tokens when in parity \n",
    "# Trading 1 usdc in\n",
    "# A factor of 10\n",
    "print(getPrice(1000,2000,1,10))\n",
    "# Outputs the bean and usdc in a pool at 1.02\n",
    "# assumes 10m USDC, A factor of 10\n",
    "print(stableSwap(10_000_000,1.02,A = 10))"
   ]
  },
  {
   "cell_type": "code",
   "execution_count": 4,
   "metadata": {},
   "outputs": [],
   "source": [
    "# Dataframe of Balances of Bean/USDC at 1.01 at A= 0-10 (index = A)\n",
    "# Assumes USDC in pool is always 10_000\n",
    "# slippage = 1 means 1% slippage\n",
    "\n",
    "def slippageDeltaConstantUSDC(slippage=1):\n",
    "    df1=pd.DataFrame(columns = ['bean','usdc','delta_B'])\n",
    "    price = 1 + slippage/100\n",
    "    #determine the liquidity pool size \n",
    "    for A_factor in range(0,11):\n",
    "        var=stableSwap(10000,price,A_factor)[:-1]\n",
    "        var.append(getDelta(stableSwap(10000,price,A_factor)[0],10000,stableSwap(10000,price,A_factor)[2]))\n",
    "        df1.loc[len(df1.index)] = var\n",
    "    \n",
    "    # data_perc = df.divide(df.sum(axis=1), axis=0)\n",
    "    # fig = data_perc.plot.area(y=['usdc','bean'])\n",
    "    # data_perc\n",
    "    return df1"
   ]
  },
  {
   "cell_type": "code",
   "execution_count": 14,
   "metadata": {},
   "outputs": [
    {
     "data": {
      "text/html": [
       "<div>\n",
       "<style scoped>\n",
       "    .dataframe tbody tr th:only-of-type {\n",
       "        vertical-align: middle;\n",
       "    }\n",
       "\n",
       "    .dataframe tbody tr th {\n",
       "        vertical-align: top;\n",
       "    }\n",
       "\n",
       "    .dataframe thead th {\n",
       "        text-align: right;\n",
       "    }\n",
       "</style>\n",
       "<table border=\"1\" class=\"dataframe\">\n",
       "  <thead>\n",
       "    <tr style=\"text-align: right;\">\n",
       "      <th></th>\n",
       "      <th>bean</th>\n",
       "      <th>usdc</th>\n",
       "      <th>delta_B</th>\n",
       "    </tr>\n",
       "  </thead>\n",
       "  <tbody>\n",
       "    <tr>\n",
       "      <th>0</th>\n",
       "      <td>9900.990099</td>\n",
       "      <td>10000.0</td>\n",
       "      <td>49.381803</td>\n",
       "    </tr>\n",
       "    <tr>\n",
       "      <th>1</th>\n",
       "      <td>9685.566254</td>\n",
       "      <td>10000.0</td>\n",
       "      <td>156.798278</td>\n",
       "    </tr>\n",
       "    <tr>\n",
       "      <th>2</th>\n",
       "      <td>9493.996998</td>\n",
       "      <td>10000.0</td>\n",
       "      <td>252.344465</td>\n",
       "    </tr>\n",
       "    <tr>\n",
       "      <th>3</th>\n",
       "      <td>9306.130949</td>\n",
       "      <td>10000.0</td>\n",
       "      <td>346.042964</td>\n",
       "    </tr>\n",
       "    <tr>\n",
       "      <th>4</th>\n",
       "      <td>9121.861601</td>\n",
       "      <td>10000.0</td>\n",
       "      <td>437.947011</td>\n",
       "    </tr>\n",
       "    <tr>\n",
       "      <th>5</th>\n",
       "      <td>8958.961909</td>\n",
       "      <td>10000.0</td>\n",
       "      <td>519.216459</td>\n",
       "    </tr>\n",
       "    <tr>\n",
       "      <th>6</th>\n",
       "      <td>8781.248731</td>\n",
       "      <td>10000.0</td>\n",
       "      <td>607.849013</td>\n",
       "    </tr>\n",
       "    <tr>\n",
       "      <th>7</th>\n",
       "      <td>8606.846646</td>\n",
       "      <td>10000.0</td>\n",
       "      <td>694.829332</td>\n",
       "    </tr>\n",
       "    <tr>\n",
       "      <th>8</th>\n",
       "      <td>8435.664302</td>\n",
       "      <td>10000.0</td>\n",
       "      <td>780.202856</td>\n",
       "    </tr>\n",
       "    <tr>\n",
       "      <th>9</th>\n",
       "      <td>8284.235096</td>\n",
       "      <td>10000.0</td>\n",
       "      <td>855.746606</td>\n",
       "    </tr>\n",
       "    <tr>\n",
       "      <th>10</th>\n",
       "      <td>8118.930732</td>\n",
       "      <td>10000.0</td>\n",
       "      <td>938.186222</td>\n",
       "    </tr>\n",
       "  </tbody>\n",
       "</table>\n",
       "</div>"
      ],
      "text/plain": [
       "           bean     usdc     delta_B\n",
       "0   9900.990099  10000.0   49.381803\n",
       "1   9685.566254  10000.0  156.798278\n",
       "2   9493.996998  10000.0  252.344465\n",
       "3   9306.130949  10000.0  346.042964\n",
       "4   9121.861601  10000.0  437.947011\n",
       "5   8958.961909  10000.0  519.216459\n",
       "6   8781.248731  10000.0  607.849013\n",
       "7   8606.846646  10000.0  694.829332\n",
       "8   8435.664302  10000.0  780.202856\n",
       "9   8284.235096  10000.0  855.746606\n",
       "10  8118.930732  10000.0  938.186222"
      ]
     },
     "execution_count": 14,
     "metadata": {},
     "output_type": "execute_result"
    }
   ],
   "source": [
    "df1 = slippageDeltaConstantUSDC()\n",
    "df1"
   ]
  },
  {
   "cell_type": "code",
   "execution_count": 6,
   "metadata": {},
   "outputs": [],
   "source": [
    "# Balances of Bean/USDC at 1.01 at A = 0-10 (index = A)\n",
    "# Assumes D is constant instead (D = 20000)\n",
    "\n",
    "def slippageDeltaConstantD(slippage=1):\n",
    "    df2=pd.DataFrame(columns = ['bean','usdc','delta_B'])\n",
    "    D= 20000\n",
    "    usdc=D/2\n",
    "    price = 1.01\n",
    "    #determine the liquidity pool size \n",
    "    for A_factor in range(0,11):\n",
    "        usdc=D/2\n",
    "        test = 1\n",
    "        while test > abs(price - getPrice(usdc,D,1,A_factor)):\n",
    "            test = abs(price - getPrice(usdc,D,1,A_factor))\n",
    "            usdc +=1\n",
    "        bean = sampleStable(usdc,A_factor,D,2)\n",
    "        df2.loc[len(df2.index)] = [usdc,bean,getDelta(bean,usdc,D)]\n",
    "    return(df2)\n"
   ]
  },
  {
   "cell_type": "code",
   "execution_count": 15,
   "metadata": {},
   "outputs": [
    {
     "data": {
      "text/html": [
       "<div>\n",
       "<style scoped>\n",
       "    .dataframe tbody tr th:only-of-type {\n",
       "        vertical-align: middle;\n",
       "    }\n",
       "\n",
       "    .dataframe tbody tr th {\n",
       "        vertical-align: top;\n",
       "    }\n",
       "\n",
       "    .dataframe thead th {\n",
       "        text-align: right;\n",
       "    }\n",
       "</style>\n",
       "<table border=\"1\" class=\"dataframe\">\n",
       "  <thead>\n",
       "    <tr style=\"text-align: right;\">\n",
       "      <th></th>\n",
       "      <th>bean</th>\n",
       "      <th>usdc</th>\n",
       "      <th>delta_B</th>\n",
       "    </tr>\n",
       "  </thead>\n",
       "  <tbody>\n",
       "    <tr>\n",
       "      <th>0</th>\n",
       "      <td>10050.0</td>\n",
       "      <td>9950.000000</td>\n",
       "      <td>50.000000</td>\n",
       "    </tr>\n",
       "    <tr>\n",
       "      <th>1</th>\n",
       "      <td>10150.0</td>\n",
       "      <td>9850.746343</td>\n",
       "      <td>149.253657</td>\n",
       "    </tr>\n",
       "    <tr>\n",
       "      <th>2</th>\n",
       "      <td>10250.0</td>\n",
       "      <td>9751.244274</td>\n",
       "      <td>248.755726</td>\n",
       "    </tr>\n",
       "    <tr>\n",
       "      <th>3</th>\n",
       "      <td>10349.0</td>\n",
       "      <td>9652.732917</td>\n",
       "      <td>347.267083</td>\n",
       "    </tr>\n",
       "    <tr>\n",
       "      <th>4</th>\n",
       "      <td>10448.0</td>\n",
       "      <td>9554.222488</td>\n",
       "      <td>445.777512</td>\n",
       "    </tr>\n",
       "    <tr>\n",
       "      <th>5</th>\n",
       "      <td>10546.0</td>\n",
       "      <td>9456.703353</td>\n",
       "      <td>543.296647</td>\n",
       "    </tr>\n",
       "    <tr>\n",
       "      <th>6</th>\n",
       "      <td>10644.0</td>\n",
       "      <td>9359.185694</td>\n",
       "      <td>640.814306</td>\n",
       "    </tr>\n",
       "    <tr>\n",
       "      <th>7</th>\n",
       "      <td>10742.0</td>\n",
       "      <td>9261.669781</td>\n",
       "      <td>738.330219</td>\n",
       "    </tr>\n",
       "    <tr>\n",
       "      <th>8</th>\n",
       "      <td>10838.0</td>\n",
       "      <td>9166.136050</td>\n",
       "      <td>833.863950</td>\n",
       "    </tr>\n",
       "    <tr>\n",
       "      <th>9</th>\n",
       "      <td>10933.0</td>\n",
       "      <td>9071.594663</td>\n",
       "      <td>928.405337</td>\n",
       "    </tr>\n",
       "    <tr>\n",
       "      <th>10</th>\n",
       "      <td>11028.0</td>\n",
       "      <td>8977.055755</td>\n",
       "      <td>1022.944245</td>\n",
       "    </tr>\n",
       "  </tbody>\n",
       "</table>\n",
       "</div>"
      ],
      "text/plain": [
       "       bean         usdc      delta_B\n",
       "0   10050.0  9950.000000    50.000000\n",
       "1   10150.0  9850.746343   149.253657\n",
       "2   10250.0  9751.244274   248.755726\n",
       "3   10349.0  9652.732917   347.267083\n",
       "4   10448.0  9554.222488   445.777512\n",
       "5   10546.0  9456.703353   543.296647\n",
       "6   10644.0  9359.185694   640.814306\n",
       "7   10742.0  9261.669781   738.330219\n",
       "8   10838.0  9166.136050   833.863950\n",
       "9   10933.0  9071.594663   928.405337\n",
       "10  11028.0  8977.055755  1022.944245"
      ]
     },
     "execution_count": 15,
     "metadata": {},
     "output_type": "execute_result"
    }
   ],
   "source": [
    "df2 = slippageDeltaConstantD()\n",
    "df2"
   ]
  },
  {
   "cell_type": "code",
   "execution_count": 8,
   "metadata": {},
   "outputs": [],
   "source": [
    "def beansPerSlippage(slippage = 1):\n",
    "# dataframe to show amount of beans that can be bought in one trade, with 1% slippage\n",
    "# note that new price will be higher than the purchase price\n",
    "# slippage = 1 means 1% slippage\n",
    "    df3=pd.DataFrame(columns = ['A factor','% Bean in Pool','Virtual Price',])\n",
    "\n",
    "    #determine the liquidity pool size \n",
    "    for A_factor in range(1,11):\n",
    "        df3.loc[len(df3.index)] = slippageFinder(slippage/100,A_factor)\n",
    "    return df3\n",
    "    "
   ]
  },
  {
   "cell_type": "code",
   "execution_count": 9,
   "metadata": {},
   "outputs": [
    {
     "data": {
      "text/html": [
       "<div>\n",
       "<style scoped>\n",
       "    .dataframe tbody tr th:only-of-type {\n",
       "        vertical-align: middle;\n",
       "    }\n",
       "\n",
       "    .dataframe tbody tr th {\n",
       "        vertical-align: top;\n",
       "    }\n",
       "\n",
       "    .dataframe thead th {\n",
       "        text-align: right;\n",
       "    }\n",
       "</style>\n",
       "<table border=\"1\" class=\"dataframe\">\n",
       "  <thead>\n",
       "    <tr style=\"text-align: right;\">\n",
       "      <th></th>\n",
       "      <th>A factor</th>\n",
       "      <th>% Bean in Pool</th>\n",
       "      <th>Virtual Price</th>\n",
       "    </tr>\n",
       "  </thead>\n",
       "  <tbody>\n",
       "    <tr>\n",
       "      <th>0</th>\n",
       "      <td>1.0</td>\n",
       "      <td>0.030</td>\n",
       "      <td>1.020454</td>\n",
       "    </tr>\n",
       "    <tr>\n",
       "      <th>1</th>\n",
       "      <td>2.0</td>\n",
       "      <td>0.050</td>\n",
       "      <td>1.020368</td>\n",
       "    </tr>\n",
       "    <tr>\n",
       "      <th>2</th>\n",
       "      <td>3.0</td>\n",
       "      <td>0.070</td>\n",
       "      <td>1.020392</td>\n",
       "    </tr>\n",
       "    <tr>\n",
       "      <th>3</th>\n",
       "      <td>4.0</td>\n",
       "      <td>0.089</td>\n",
       "      <td>1.020242</td>\n",
       "    </tr>\n",
       "    <tr>\n",
       "      <th>4</th>\n",
       "      <td>5.0</td>\n",
       "      <td>0.108</td>\n",
       "      <td>1.020214</td>\n",
       "    </tr>\n",
       "    <tr>\n",
       "      <th>5</th>\n",
       "      <td>6.0</td>\n",
       "      <td>0.127</td>\n",
       "      <td>1.020267</td>\n",
       "    </tr>\n",
       "    <tr>\n",
       "      <th>6</th>\n",
       "      <td>7.0</td>\n",
       "      <td>0.146</td>\n",
       "      <td>1.020380</td>\n",
       "    </tr>\n",
       "    <tr>\n",
       "      <th>7</th>\n",
       "      <td>8.0</td>\n",
       "      <td>0.165</td>\n",
       "      <td>1.020546</td>\n",
       "    </tr>\n",
       "    <tr>\n",
       "      <th>8</th>\n",
       "      <td>9.0</td>\n",
       "      <td>0.183</td>\n",
       "      <td>1.020631</td>\n",
       "    </tr>\n",
       "    <tr>\n",
       "      <th>9</th>\n",
       "      <td>10.0</td>\n",
       "      <td>0.201</td>\n",
       "      <td>1.020777</td>\n",
       "    </tr>\n",
       "  </tbody>\n",
       "</table>\n",
       "</div>"
      ],
      "text/plain": [
       "   A factor  % Bean in Pool  Virtual Price\n",
       "0       1.0           0.030       1.020454\n",
       "1       2.0           0.050       1.020368\n",
       "2       3.0           0.070       1.020392\n",
       "3       4.0           0.089       1.020242\n",
       "4       5.0           0.108       1.020214\n",
       "5       6.0           0.127       1.020267\n",
       "6       7.0           0.146       1.020380\n",
       "7       8.0           0.165       1.020546\n",
       "8       9.0           0.183       1.020631\n",
       "9      10.0           0.201       1.020777"
      ]
     },
     "execution_count": 9,
     "metadata": {},
     "output_type": "execute_result"
    }
   ],
   "source": [
    "df3 = beansPerSlippage()\n",
    "df3"
   ]
  },
  {
   "cell_type": "code",
   "execution_count": 276,
   "metadata": {},
   "outputs": [
    {
     "data": {
      "application/vnd.plotly.v1+json": {
       "config": {
        "plotlyServerURL": "https://plot.ly"
       },
       "data": [
        {
         "hovertemplate": "A factor=%{x}<br>% Bean in Pool=%{y}<extra></extra>",
         "legendgroup": "",
         "line": {
          "color": "#636efa",
          "dash": "solid"
         },
         "marker": {
          "symbol": "circle"
         },
         "mode": "lines",
         "name": "",
         "orientation": "v",
         "showlegend": false,
         "type": "scatter",
         "x": [
          1,
          2,
          3,
          4,
          5,
          6,
          7,
          8,
          9,
          10
         ],
         "xaxis": "x",
         "y": [
          0.03,
          0.05,
          0.07,
          0.089,
          0.108,
          0.127,
          0.146,
          0.165,
          0.183,
          0.201
         ],
         "yaxis": "y"
        }
       ],
       "layout": {
        "legend": {
         "tracegroupgap": 0
        },
        "template": {
         "data": {
          "bar": [
           {
            "error_x": {
             "color": "#2a3f5f"
            },
            "error_y": {
             "color": "#2a3f5f"
            },
            "marker": {
             "line": {
              "color": "#E5ECF6",
              "width": 0.5
             },
             "pattern": {
              "fillmode": "overlay",
              "size": 10,
              "solidity": 0.2
             }
            },
            "type": "bar"
           }
          ],
          "barpolar": [
           {
            "marker": {
             "line": {
              "color": "#E5ECF6",
              "width": 0.5
             },
             "pattern": {
              "fillmode": "overlay",
              "size": 10,
              "solidity": 0.2
             }
            },
            "type": "barpolar"
           }
          ],
          "carpet": [
           {
            "aaxis": {
             "endlinecolor": "#2a3f5f",
             "gridcolor": "white",
             "linecolor": "white",
             "minorgridcolor": "white",
             "startlinecolor": "#2a3f5f"
            },
            "baxis": {
             "endlinecolor": "#2a3f5f",
             "gridcolor": "white",
             "linecolor": "white",
             "minorgridcolor": "white",
             "startlinecolor": "#2a3f5f"
            },
            "type": "carpet"
           }
          ],
          "choropleth": [
           {
            "colorbar": {
             "outlinewidth": 0,
             "ticks": ""
            },
            "type": "choropleth"
           }
          ],
          "contour": [
           {
            "colorbar": {
             "outlinewidth": 0,
             "ticks": ""
            },
            "colorscale": [
             [
              0,
              "#0d0887"
             ],
             [
              0.1111111111111111,
              "#46039f"
             ],
             [
              0.2222222222222222,
              "#7201a8"
             ],
             [
              0.3333333333333333,
              "#9c179e"
             ],
             [
              0.4444444444444444,
              "#bd3786"
             ],
             [
              0.5555555555555556,
              "#d8576b"
             ],
             [
              0.6666666666666666,
              "#ed7953"
             ],
             [
              0.7777777777777778,
              "#fb9f3a"
             ],
             [
              0.8888888888888888,
              "#fdca26"
             ],
             [
              1,
              "#f0f921"
             ]
            ],
            "type": "contour"
           }
          ],
          "contourcarpet": [
           {
            "colorbar": {
             "outlinewidth": 0,
             "ticks": ""
            },
            "type": "contourcarpet"
           }
          ],
          "heatmap": [
           {
            "colorbar": {
             "outlinewidth": 0,
             "ticks": ""
            },
            "colorscale": [
             [
              0,
              "#0d0887"
             ],
             [
              0.1111111111111111,
              "#46039f"
             ],
             [
              0.2222222222222222,
              "#7201a8"
             ],
             [
              0.3333333333333333,
              "#9c179e"
             ],
             [
              0.4444444444444444,
              "#bd3786"
             ],
             [
              0.5555555555555556,
              "#d8576b"
             ],
             [
              0.6666666666666666,
              "#ed7953"
             ],
             [
              0.7777777777777778,
              "#fb9f3a"
             ],
             [
              0.8888888888888888,
              "#fdca26"
             ],
             [
              1,
              "#f0f921"
             ]
            ],
            "type": "heatmap"
           }
          ],
          "heatmapgl": [
           {
            "colorbar": {
             "outlinewidth": 0,
             "ticks": ""
            },
            "colorscale": [
             [
              0,
              "#0d0887"
             ],
             [
              0.1111111111111111,
              "#46039f"
             ],
             [
              0.2222222222222222,
              "#7201a8"
             ],
             [
              0.3333333333333333,
              "#9c179e"
             ],
             [
              0.4444444444444444,
              "#bd3786"
             ],
             [
              0.5555555555555556,
              "#d8576b"
             ],
             [
              0.6666666666666666,
              "#ed7953"
             ],
             [
              0.7777777777777778,
              "#fb9f3a"
             ],
             [
              0.8888888888888888,
              "#fdca26"
             ],
             [
              1,
              "#f0f921"
             ]
            ],
            "type": "heatmapgl"
           }
          ],
          "histogram": [
           {
            "marker": {
             "pattern": {
              "fillmode": "overlay",
              "size": 10,
              "solidity": 0.2
             }
            },
            "type": "histogram"
           }
          ],
          "histogram2d": [
           {
            "colorbar": {
             "outlinewidth": 0,
             "ticks": ""
            },
            "colorscale": [
             [
              0,
              "#0d0887"
             ],
             [
              0.1111111111111111,
              "#46039f"
             ],
             [
              0.2222222222222222,
              "#7201a8"
             ],
             [
              0.3333333333333333,
              "#9c179e"
             ],
             [
              0.4444444444444444,
              "#bd3786"
             ],
             [
              0.5555555555555556,
              "#d8576b"
             ],
             [
              0.6666666666666666,
              "#ed7953"
             ],
             [
              0.7777777777777778,
              "#fb9f3a"
             ],
             [
              0.8888888888888888,
              "#fdca26"
             ],
             [
              1,
              "#f0f921"
             ]
            ],
            "type": "histogram2d"
           }
          ],
          "histogram2dcontour": [
           {
            "colorbar": {
             "outlinewidth": 0,
             "ticks": ""
            },
            "colorscale": [
             [
              0,
              "#0d0887"
             ],
             [
              0.1111111111111111,
              "#46039f"
             ],
             [
              0.2222222222222222,
              "#7201a8"
             ],
             [
              0.3333333333333333,
              "#9c179e"
             ],
             [
              0.4444444444444444,
              "#bd3786"
             ],
             [
              0.5555555555555556,
              "#d8576b"
             ],
             [
              0.6666666666666666,
              "#ed7953"
             ],
             [
              0.7777777777777778,
              "#fb9f3a"
             ],
             [
              0.8888888888888888,
              "#fdca26"
             ],
             [
              1,
              "#f0f921"
             ]
            ],
            "type": "histogram2dcontour"
           }
          ],
          "mesh3d": [
           {
            "colorbar": {
             "outlinewidth": 0,
             "ticks": ""
            },
            "type": "mesh3d"
           }
          ],
          "parcoords": [
           {
            "line": {
             "colorbar": {
              "outlinewidth": 0,
              "ticks": ""
             }
            },
            "type": "parcoords"
           }
          ],
          "pie": [
           {
            "automargin": true,
            "type": "pie"
           }
          ],
          "scatter": [
           {
            "marker": {
             "colorbar": {
              "outlinewidth": 0,
              "ticks": ""
             }
            },
            "type": "scatter"
           }
          ],
          "scatter3d": [
           {
            "line": {
             "colorbar": {
              "outlinewidth": 0,
              "ticks": ""
             }
            },
            "marker": {
             "colorbar": {
              "outlinewidth": 0,
              "ticks": ""
             }
            },
            "type": "scatter3d"
           }
          ],
          "scattercarpet": [
           {
            "marker": {
             "colorbar": {
              "outlinewidth": 0,
              "ticks": ""
             }
            },
            "type": "scattercarpet"
           }
          ],
          "scattergeo": [
           {
            "marker": {
             "colorbar": {
              "outlinewidth": 0,
              "ticks": ""
             }
            },
            "type": "scattergeo"
           }
          ],
          "scattergl": [
           {
            "marker": {
             "colorbar": {
              "outlinewidth": 0,
              "ticks": ""
             }
            },
            "type": "scattergl"
           }
          ],
          "scattermapbox": [
           {
            "marker": {
             "colorbar": {
              "outlinewidth": 0,
              "ticks": ""
             }
            },
            "type": "scattermapbox"
           }
          ],
          "scatterpolar": [
           {
            "marker": {
             "colorbar": {
              "outlinewidth": 0,
              "ticks": ""
             }
            },
            "type": "scatterpolar"
           }
          ],
          "scatterpolargl": [
           {
            "marker": {
             "colorbar": {
              "outlinewidth": 0,
              "ticks": ""
             }
            },
            "type": "scatterpolargl"
           }
          ],
          "scatterternary": [
           {
            "marker": {
             "colorbar": {
              "outlinewidth": 0,
              "ticks": ""
             }
            },
            "type": "scatterternary"
           }
          ],
          "surface": [
           {
            "colorbar": {
             "outlinewidth": 0,
             "ticks": ""
            },
            "colorscale": [
             [
              0,
              "#0d0887"
             ],
             [
              0.1111111111111111,
              "#46039f"
             ],
             [
              0.2222222222222222,
              "#7201a8"
             ],
             [
              0.3333333333333333,
              "#9c179e"
             ],
             [
              0.4444444444444444,
              "#bd3786"
             ],
             [
              0.5555555555555556,
              "#d8576b"
             ],
             [
              0.6666666666666666,
              "#ed7953"
             ],
             [
              0.7777777777777778,
              "#fb9f3a"
             ],
             [
              0.8888888888888888,
              "#fdca26"
             ],
             [
              1,
              "#f0f921"
             ]
            ],
            "type": "surface"
           }
          ],
          "table": [
           {
            "cells": {
             "fill": {
              "color": "#EBF0F8"
             },
             "line": {
              "color": "white"
             }
            },
            "header": {
             "fill": {
              "color": "#C8D4E3"
             },
             "line": {
              "color": "white"
             }
            },
            "type": "table"
           }
          ]
         },
         "layout": {
          "annotationdefaults": {
           "arrowcolor": "#2a3f5f",
           "arrowhead": 0,
           "arrowwidth": 1
          },
          "autotypenumbers": "strict",
          "coloraxis": {
           "colorbar": {
            "outlinewidth": 0,
            "ticks": ""
           }
          },
          "colorscale": {
           "diverging": [
            [
             0,
             "#8e0152"
            ],
            [
             0.1,
             "#c51b7d"
            ],
            [
             0.2,
             "#de77ae"
            ],
            [
             0.3,
             "#f1b6da"
            ],
            [
             0.4,
             "#fde0ef"
            ],
            [
             0.5,
             "#f7f7f7"
            ],
            [
             0.6,
             "#e6f5d0"
            ],
            [
             0.7,
             "#b8e186"
            ],
            [
             0.8,
             "#7fbc41"
            ],
            [
             0.9,
             "#4d9221"
            ],
            [
             1,
             "#276419"
            ]
           ],
           "sequential": [
            [
             0,
             "#0d0887"
            ],
            [
             0.1111111111111111,
             "#46039f"
            ],
            [
             0.2222222222222222,
             "#7201a8"
            ],
            [
             0.3333333333333333,
             "#9c179e"
            ],
            [
             0.4444444444444444,
             "#bd3786"
            ],
            [
             0.5555555555555556,
             "#d8576b"
            ],
            [
             0.6666666666666666,
             "#ed7953"
            ],
            [
             0.7777777777777778,
             "#fb9f3a"
            ],
            [
             0.8888888888888888,
             "#fdca26"
            ],
            [
             1,
             "#f0f921"
            ]
           ],
           "sequentialminus": [
            [
             0,
             "#0d0887"
            ],
            [
             0.1111111111111111,
             "#46039f"
            ],
            [
             0.2222222222222222,
             "#7201a8"
            ],
            [
             0.3333333333333333,
             "#9c179e"
            ],
            [
             0.4444444444444444,
             "#bd3786"
            ],
            [
             0.5555555555555556,
             "#d8576b"
            ],
            [
             0.6666666666666666,
             "#ed7953"
            ],
            [
             0.7777777777777778,
             "#fb9f3a"
            ],
            [
             0.8888888888888888,
             "#fdca26"
            ],
            [
             1,
             "#f0f921"
            ]
           ]
          },
          "colorway": [
           "#636efa",
           "#EF553B",
           "#00cc96",
           "#ab63fa",
           "#FFA15A",
           "#19d3f3",
           "#FF6692",
           "#B6E880",
           "#FF97FF",
           "#FECB52"
          ],
          "font": {
           "color": "#2a3f5f"
          },
          "geo": {
           "bgcolor": "white",
           "lakecolor": "white",
           "landcolor": "#E5ECF6",
           "showlakes": true,
           "showland": true,
           "subunitcolor": "white"
          },
          "hoverlabel": {
           "align": "left"
          },
          "hovermode": "closest",
          "mapbox": {
           "style": "light"
          },
          "paper_bgcolor": "white",
          "plot_bgcolor": "#E5ECF6",
          "polar": {
           "angularaxis": {
            "gridcolor": "white",
            "linecolor": "white",
            "ticks": ""
           },
           "bgcolor": "#E5ECF6",
           "radialaxis": {
            "gridcolor": "white",
            "linecolor": "white",
            "ticks": ""
           }
          },
          "scene": {
           "xaxis": {
            "backgroundcolor": "#E5ECF6",
            "gridcolor": "white",
            "gridwidth": 2,
            "linecolor": "white",
            "showbackground": true,
            "ticks": "",
            "zerolinecolor": "white"
           },
           "yaxis": {
            "backgroundcolor": "#E5ECF6",
            "gridcolor": "white",
            "gridwidth": 2,
            "linecolor": "white",
            "showbackground": true,
            "ticks": "",
            "zerolinecolor": "white"
           },
           "zaxis": {
            "backgroundcolor": "#E5ECF6",
            "gridcolor": "white",
            "gridwidth": 2,
            "linecolor": "white",
            "showbackground": true,
            "ticks": "",
            "zerolinecolor": "white"
           }
          },
          "shapedefaults": {
           "line": {
            "color": "#2a3f5f"
           }
          },
          "ternary": {
           "aaxis": {
            "gridcolor": "white",
            "linecolor": "white",
            "ticks": ""
           },
           "baxis": {
            "gridcolor": "white",
            "linecolor": "white",
            "ticks": ""
           },
           "bgcolor": "#E5ECF6",
           "caxis": {
            "gridcolor": "white",
            "linecolor": "white",
            "ticks": ""
           }
          },
          "title": {
           "x": 0.05
          },
          "xaxis": {
           "automargin": true,
           "gridcolor": "white",
           "linecolor": "white",
           "ticks": "",
           "title": {
            "standoff": 15
           },
           "zerolinecolor": "white",
           "zerolinewidth": 2
          },
          "yaxis": {
           "automargin": true,
           "gridcolor": "white",
           "linecolor": "white",
           "ticks": "",
           "title": {
            "standoff": 15
           },
           "zerolinecolor": "white",
           "zerolinewidth": 2
          }
         }
        },
        "title": {
         "text": "Amount of beans 1 trade can obtain with 1% slippage (assuming parity)"
        },
        "xaxis": {
         "anchor": "y",
         "domain": [
          0,
          1
         ],
         "title": {
          "text": "A factor"
         }
        },
        "yaxis": {
         "anchor": "x",
         "domain": [
          0,
          1
         ],
         "title": {
          "text": "% Bean in Pool"
         }
        }
       }
      }
     },
     "metadata": {},
     "output_type": "display_data"
    }
   ],
   "source": [
    "fig = px.line(df3, x='A factor' , y = '% Bean in Pool', title= \"Amount of beans 1 trade can obtain with 1% slippage (assuming parity)\")\n",
    "fig.show()"
   ]
  },
  {
   "cell_type": "code",
   "execution_count": 10,
   "metadata": {},
   "outputs": [],
   "source": [
    "# the price of a pool given a delta, from A= 1-10\n",
    "# inputs are max price, and an array of A factors\n",
    "def poolPriceDelta(price=1.5,A_factor=[0,1,2,3,4,5,6,7,8,9,10]):\n",
    "    D=20000\n",
    "    usdc=D/2\n",
    "    df4=pd.DataFrame(columns = ['A Factor','Delta B','Price'])\n",
    "    for A_factor in np.linspace(0,10,11):\n",
    "        for price in np.linspace(1,2,10):\n",
    "            usdc=D/2\n",
    "            test = 1\n",
    "            while test > abs(price - getPrice(usdc,D,1,A_factor)):\n",
    "                test = abs(price - getPrice(usdc,D,1,A_factor))\n",
    "                usdc +=1\n",
    "            bean = sampleStable(usdc,A_factor,D,2)\n",
    "            df4.loc[len(df4.index)] = [A_factor,getDelta(bean,usdc,D),price]\n",
    "    return df4"
   ]
  },
  {
   "cell_type": "code",
   "execution_count": 11,
   "metadata": {},
   "outputs": [
    {
     "data": {
      "text/html": [
       "<div>\n",
       "<style scoped>\n",
       "    .dataframe tbody tr th:only-of-type {\n",
       "        vertical-align: middle;\n",
       "    }\n",
       "\n",
       "    .dataframe tbody tr th {\n",
       "        vertical-align: top;\n",
       "    }\n",
       "\n",
       "    .dataframe thead th {\n",
       "        text-align: right;\n",
       "    }\n",
       "</style>\n",
       "<table border=\"1\" class=\"dataframe\">\n",
       "  <thead>\n",
       "    <tr style=\"text-align: right;\">\n",
       "      <th></th>\n",
       "      <th>A Factor</th>\n",
       "      <th>Delta B</th>\n",
       "      <th>Price</th>\n",
       "    </tr>\n",
       "  </thead>\n",
       "  <tbody>\n",
       "    <tr>\n",
       "      <th>0</th>\n",
       "      <td>0.0</td>\n",
       "      <td>1.000000</td>\n",
       "      <td>1.000000</td>\n",
       "    </tr>\n",
       "    <tr>\n",
       "      <th>1</th>\n",
       "      <td>0.0</td>\n",
       "      <td>527.000000</td>\n",
       "      <td>1.111111</td>\n",
       "    </tr>\n",
       "    <tr>\n",
       "      <th>2</th>\n",
       "      <td>0.0</td>\n",
       "      <td>1001.000000</td>\n",
       "      <td>1.222222</td>\n",
       "    </tr>\n",
       "    <tr>\n",
       "      <th>3</th>\n",
       "      <td>0.0</td>\n",
       "      <td>1429.000000</td>\n",
       "      <td>1.333333</td>\n",
       "    </tr>\n",
       "    <tr>\n",
       "      <th>4</th>\n",
       "      <td>0.0</td>\n",
       "      <td>1819.000000</td>\n",
       "      <td>1.444444</td>\n",
       "    </tr>\n",
       "    <tr>\n",
       "      <th>...</th>\n",
       "      <td>...</td>\n",
       "      <td>...</td>\n",
       "      <td>...</td>\n",
       "    </tr>\n",
       "    <tr>\n",
       "      <th>105</th>\n",
       "      <td>10.0</td>\n",
       "      <td>8002.686673</td>\n",
       "      <td>1.555556</td>\n",
       "    </tr>\n",
       "    <tr>\n",
       "      <th>106</th>\n",
       "      <td>10.0</td>\n",
       "      <td>8183.561192</td>\n",
       "      <td>1.666667</td>\n",
       "    </tr>\n",
       "    <tr>\n",
       "      <th>107</th>\n",
       "      <td>10.0</td>\n",
       "      <td>8324.229486</td>\n",
       "      <td>1.777778</td>\n",
       "    </tr>\n",
       "    <tr>\n",
       "      <th>108</th>\n",
       "      <td>10.0</td>\n",
       "      <td>8437.790625</td>\n",
       "      <td>1.888889</td>\n",
       "    </tr>\n",
       "    <tr>\n",
       "      <th>109</th>\n",
       "      <td>10.0</td>\n",
       "      <td>8532.485951</td>\n",
       "      <td>2.000000</td>\n",
       "    </tr>\n",
       "  </tbody>\n",
       "</table>\n",
       "<p>110 rows × 3 columns</p>\n",
       "</div>"
      ],
      "text/plain": [
       "     A Factor      Delta B     Price\n",
       "0         0.0     1.000000  1.000000\n",
       "1         0.0   527.000000  1.111111\n",
       "2         0.0  1001.000000  1.222222\n",
       "3         0.0  1429.000000  1.333333\n",
       "4         0.0  1819.000000  1.444444\n",
       "..        ...          ...       ...\n",
       "105      10.0  8002.686673  1.555556\n",
       "106      10.0  8183.561192  1.666667\n",
       "107      10.0  8324.229486  1.777778\n",
       "108      10.0  8437.790625  1.888889\n",
       "109      10.0  8532.485951  2.000000\n",
       "\n",
       "[110 rows x 3 columns]"
      ]
     },
     "execution_count": 11,
     "metadata": {},
     "output_type": "execute_result"
    }
   ],
   "source": [
    "df4 = poolPriceDelta()\n",
    "df4"
   ]
  },
  {
   "cell_type": "code",
   "execution_count": 12,
   "metadata": {},
   "outputs": [
    {
     "data": {
      "application/vnd.plotly.v1+json": {
       "config": {
        "plotlyServerURL": "https://plot.ly"
       },
       "data": [
        {
         "hovertemplate": "A Factor=0.0<br>Delta B=%{x}<br>Price=%{y}<extra></extra>",
         "legendgroup": "0.0",
         "line": {
          "color": "#636efa",
          "dash": "solid"
         },
         "marker": {
          "symbol": "circle"
         },
         "mode": "lines",
         "name": "0.0",
         "orientation": "v",
         "showlegend": true,
         "type": "scatter",
         "x": [
          1,
          527,
          1001,
          1429,
          1819,
          2175,
          2501,
          2801,
          3078,
          3334
         ],
         "xaxis": "x",
         "y": [
          1,
          1.1111111111111112,
          1.2222222222222223,
          1.3333333333333333,
          1.4444444444444444,
          1.5555555555555556,
          1.6666666666666665,
          1.7777777777777777,
          1.8888888888888888,
          2
         ],
         "yaxis": "y"
        },
        {
         "hovertemplate": "A Factor=1.0<br>Delta B=%{x}<br>Price=%{y}<extra></extra>",
         "legendgroup": "1.0",
         "line": {
          "color": "#EF553B",
          "dash": "solid"
         },
         "marker": {
          "symbol": "circle"
         },
         "mode": "lines",
         "name": "1.0",
         "orientation": "v",
         "showlegend": true,
         "type": "scatter",
         "x": [
          0.9999666677776986,
          1508.257204313044,
          2676.5105938126035,
          3557.133216219636,
          4228.574376909626,
          4753.2902941685,
          5173.963136816901,
          5518.609702574447,
          5807.388116558831,
          6052.866224999754
         ],
         "xaxis": "x",
         "y": [
          1,
          1.1111111111111112,
          1.2222222222222223,
          1.3333333333333333,
          1.4444444444444444,
          1.5555555555555556,
          1.6666666666666665,
          1.7777777777777777,
          1.8888888888888888,
          2
         ],
         "yaxis": "y"
        },
        {
         "hovertemplate": "A Factor=2.0<br>Delta B=%{x}<br>Price=%{y}<extra></extra>",
         "legendgroup": "2.0",
         "line": {
          "color": "#00cc96",
          "dash": "solid"
         },
         "marker": {
          "symbol": "circle"
         },
         "mode": "lines",
         "name": "2.0",
         "orientation": "v",
         "showlegend": true,
         "type": "scatter",
         "x": [
          0.9999800004006829,
          2379.2247827041174,
          3877.3772517623893,
          4819.374302020926,
          5460.190597315155,
          5926.997061899003,
          6284.377752262326,
          6568.629190655733,
          6801.7435412128325,
          6996.283862454733
         ],
         "xaxis": "x",
         "y": [
          1,
          1.1111111111111112,
          1.2222222222222223,
          1.3333333333333333,
          1.4444444444444444,
          1.5555555555555556,
          1.6666666666666665,
          1.7777777777777777,
          1.8888888888888888,
          2
         ],
         "yaxis": "y"
        },
        {
         "hovertemplate": "A Factor=3.0<br>Delta B=%{x}<br>Price=%{y}<extra></extra>",
         "legendgroup": "3.0",
         "line": {
          "color": "#ab63fa",
          "dash": "solid"
         },
         "marker": {
          "symbol": "circle"
         },
         "mode": "lines",
         "name": "3.0",
         "orientation": "v",
         "showlegend": true,
         "type": "scatter",
         "x": [
          0.9999857144885027,
          3096.7990823747086,
          4681.227143221381,
          5572.641878077568,
          6149.3572680694015,
          6558.764650776253,
          6867.055895221916,
          7110.610682959678,
          7308.228256339002,
          7472.912730997057
         ],
         "xaxis": "x",
         "y": [
          1,
          1.1111111111111112,
          1.2222222222222223,
          1.3333333333333333,
          1.4444444444444444,
          1.5555555555555556,
          1.6666666666666665,
          1.7777777777777777,
          1.8888888888888888,
          2
         ],
         "yaxis": "y"
        },
        {
         "hovertemplate": "A Factor=4.0<br>Delta B=%{x}<br>Price=%{y}<extra></extra>",
         "legendgroup": "4.0",
         "line": {
          "color": "#FFA15A",
          "dash": "solid"
         },
         "marker": {
          "symbol": "circle"
         },
         "mode": "lines",
         "name": "4.0",
         "orientation": "v",
         "showlegend": true,
         "type": "scatter",
         "x": [
          0.9999888890124566,
          3675.23315225233,
          5247.981811515875,
          6075.946484702463,
          6597.839758260278,
          6963.863489616288,
          7237.988741630384,
          7453.083035547632,
          7627.791591502961,
          7772.922721213588
         ],
         "xaxis": "x",
         "y": [
          1,
          1.1111111111111112,
          1.2222222222222223,
          1.3333333333333333,
          1.4444444444444444,
          1.5555555555555556,
          1.6666666666666665,
          1.7777777777777777,
          1.8888888888888888,
          2
         ],
         "yaxis": "y"
        },
        {
         "hovertemplate": "A Factor=5.0<br>Delta B=%{x}<br>Price=%{y}<extra></extra>",
         "legendgroup": "5.0",
         "line": {
          "color": "#19d3f3",
          "dash": "solid"
         },
         "marker": {
          "symbol": "circle"
         },
         "mode": "lines",
         "name": "5.0",
         "orientation": "v",
         "showlegend": true,
         "type": "scatter",
         "x": [
          0.9999909091748123,
          4144.696091937082,
          5669.1094596524545,
          6439.098223459416,
          6918.452664430302,
          7251.759334468003,
          7501.013144802648,
          7695.737537334491,
          7853.504259402909,
          7984.223200650144
         ],
         "xaxis": "x",
         "y": [
          1,
          1.1111111111111112,
          1.2222222222222223,
          1.3333333333333333,
          1.4444444444444444,
          1.5555555555555556,
          1.6666666666666665,
          1.7777777777777777,
          1.8888888888888888,
          2
         ],
         "yaxis": "y"
        },
        {
         "hovertemplate": "A Factor=6.0<br>Delta B=%{x}<br>Price=%{y}<extra></extra>",
         "legendgroup": "6.0",
         "line": {
          "color": "#FF6692",
          "dash": "solid"
         },
         "marker": {
          "symbol": "circle"
         },
         "mode": "lines",
         "name": "6.0",
         "orientation": "v",
         "showlegend": true,
         "type": "scatter",
         "x": [
          0.9999923077521089,
          4531.022833194983,
          5997.2696925415785,
          6717.796082174145,
          7161.792580438474,
          7469.737701989701,
          7699.12270595426,
          7878.745802043675,
          8023.4179357484345,
          8143.849245492069
         ],
         "xaxis": "x",
         "y": [
          1,
          1.1111111111111112,
          1.2222222222222223,
          1.3333333333333333,
          1.4444444444444444,
          1.5555555555555556,
          1.6666666666666665,
          1.7777777777777777,
          1.8888888888888888,
          2
         ],
         "yaxis": "y"
        },
        {
         "hovertemplate": "A Factor=7.0<br>Delta B=%{x}<br>Price=%{y}<extra></extra>",
         "legendgroup": "7.0",
         "line": {
          "color": "#B6E880",
          "dash": "solid"
         },
         "marker": {
          "symbol": "circle"
         },
         "mode": "lines",
         "name": "7.0",
         "orientation": "v",
         "showlegend": true,
         "type": "scatter",
         "x": [
          0.9999933333783702,
          4854.622817045012,
          6260.798918417476,
          6939.7196603909615,
          7355.537675435862,
          7642.744984589321,
          7856.561755957556,
          8023.380065392255,
          8158.213193377371,
          8269.885672608154
         ],
         "xaxis": "x",
         "y": [
          1,
          1.1111111111111112,
          1.2222222222222223,
          1.3333333333333333,
          1.4444444444444444,
          1.5555555555555556,
          1.6666666666666665,
          1.7777777777777777,
          1.8888888888888888,
          2
         ],
         "yaxis": "y"
        },
        {
         "hovertemplate": "A Factor=8.0<br>Delta B=%{x}<br>Price=%{y}<extra></extra>",
         "legendgroup": "8.0",
         "line": {
          "color": "#FF97FF",
          "dash": "solid"
         },
         "marker": {
          "symbol": "circle"
         },
         "mode": "lines",
         "name": "8.0",
         "orientation": "v",
         "showlegend": true,
         "type": "scatter",
         "x": [
          0.9999941176811262,
          5128.621627505215,
          6478.934426732285,
          7121.722175808713,
          7513.020602364338,
          7783.561025620135,
          7984.3477149144555,
          8141.3005638735485,
          8267.94900938891,
          8372.927047776091
         ],
         "xaxis": "x",
         "y": [
          1,
          1.1111111111111112,
          1.2222222222222223,
          1.3333333333333333,
          1.4444444444444444,
          1.5555555555555556,
          1.6666666666666665,
          1.7777777777777777,
          1.8888888888888888,
          2
         ],
         "yaxis": "y"
        },
        {
         "hovertemplate": "A Factor=9.0<br>Delta B=%{x}<br>Price=%{y}<extra></extra>",
         "legendgroup": "9.0",
         "line": {
          "color": "#FECB52",
          "dash": "solid"
         },
         "marker": {
          "symbol": "circle"
         },
         "mode": "lines",
         "name": "9.0",
         "orientation": "v",
         "showlegend": true,
         "type": "scatter",
         "x": [
          0.9999947368687572,
          5365.154685308103,
          6662.954896467536,
          7274.327632998308,
          7646.113285545578,
          7901.92712931217,
          8092.120948701146,
          8239.768317104563,
          8359.872355248252,
          8458.68263512502
         ],
         "xaxis": "x",
         "y": [
          1,
          1.1111111111111112,
          1.2222222222222223,
          1.3333333333333333,
          1.4444444444444444,
          1.5555555555555556,
          1.6666666666666665,
          1.7777777777777777,
          1.8888888888888888,
          2
         ],
         "yaxis": "y"
        },
        {
         "hovertemplate": "A Factor=10.0<br>Delta B=%{x}<br>Price=%{y}<extra></extra>",
         "legendgroup": "10.0",
         "line": {
          "color": "#636efa",
          "dash": "solid"
         },
         "marker": {
          "symbol": "circle"
         },
         "mode": "lines",
         "name": "10.0",
         "orientation": "v",
         "showlegend": true,
         "type": "scatter",
         "x": [
          0.9999952381167532,
          5570.877824318269,
          6820.471570260702,
          7404.3886926760515,
          7758.882765651566,
          8002.686672587308,
          8183.561191972786,
          8324.229486376447,
          8437.790624740319,
          8532.485950740242
         ],
         "xaxis": "x",
         "y": [
          1,
          1.1111111111111112,
          1.2222222222222223,
          1.3333333333333333,
          1.4444444444444444,
          1.5555555555555556,
          1.6666666666666665,
          1.7777777777777777,
          1.8888888888888888,
          2
         ],
         "yaxis": "y"
        }
       ],
       "layout": {
        "legend": {
         "title": {
          "text": "A Factor"
         },
         "tracegroupgap": 0
        },
        "template": {
         "data": {
          "bar": [
           {
            "error_x": {
             "color": "#2a3f5f"
            },
            "error_y": {
             "color": "#2a3f5f"
            },
            "marker": {
             "line": {
              "color": "#E5ECF6",
              "width": 0.5
             },
             "pattern": {
              "fillmode": "overlay",
              "size": 10,
              "solidity": 0.2
             }
            },
            "type": "bar"
           }
          ],
          "barpolar": [
           {
            "marker": {
             "line": {
              "color": "#E5ECF6",
              "width": 0.5
             },
             "pattern": {
              "fillmode": "overlay",
              "size": 10,
              "solidity": 0.2
             }
            },
            "type": "barpolar"
           }
          ],
          "carpet": [
           {
            "aaxis": {
             "endlinecolor": "#2a3f5f",
             "gridcolor": "white",
             "linecolor": "white",
             "minorgridcolor": "white",
             "startlinecolor": "#2a3f5f"
            },
            "baxis": {
             "endlinecolor": "#2a3f5f",
             "gridcolor": "white",
             "linecolor": "white",
             "minorgridcolor": "white",
             "startlinecolor": "#2a3f5f"
            },
            "type": "carpet"
           }
          ],
          "choropleth": [
           {
            "colorbar": {
             "outlinewidth": 0,
             "ticks": ""
            },
            "type": "choropleth"
           }
          ],
          "contour": [
           {
            "colorbar": {
             "outlinewidth": 0,
             "ticks": ""
            },
            "colorscale": [
             [
              0,
              "#0d0887"
             ],
             [
              0.1111111111111111,
              "#46039f"
             ],
             [
              0.2222222222222222,
              "#7201a8"
             ],
             [
              0.3333333333333333,
              "#9c179e"
             ],
             [
              0.4444444444444444,
              "#bd3786"
             ],
             [
              0.5555555555555556,
              "#d8576b"
             ],
             [
              0.6666666666666666,
              "#ed7953"
             ],
             [
              0.7777777777777778,
              "#fb9f3a"
             ],
             [
              0.8888888888888888,
              "#fdca26"
             ],
             [
              1,
              "#f0f921"
             ]
            ],
            "type": "contour"
           }
          ],
          "contourcarpet": [
           {
            "colorbar": {
             "outlinewidth": 0,
             "ticks": ""
            },
            "type": "contourcarpet"
           }
          ],
          "heatmap": [
           {
            "colorbar": {
             "outlinewidth": 0,
             "ticks": ""
            },
            "colorscale": [
             [
              0,
              "#0d0887"
             ],
             [
              0.1111111111111111,
              "#46039f"
             ],
             [
              0.2222222222222222,
              "#7201a8"
             ],
             [
              0.3333333333333333,
              "#9c179e"
             ],
             [
              0.4444444444444444,
              "#bd3786"
             ],
             [
              0.5555555555555556,
              "#d8576b"
             ],
             [
              0.6666666666666666,
              "#ed7953"
             ],
             [
              0.7777777777777778,
              "#fb9f3a"
             ],
             [
              0.8888888888888888,
              "#fdca26"
             ],
             [
              1,
              "#f0f921"
             ]
            ],
            "type": "heatmap"
           }
          ],
          "heatmapgl": [
           {
            "colorbar": {
             "outlinewidth": 0,
             "ticks": ""
            },
            "colorscale": [
             [
              0,
              "#0d0887"
             ],
             [
              0.1111111111111111,
              "#46039f"
             ],
             [
              0.2222222222222222,
              "#7201a8"
             ],
             [
              0.3333333333333333,
              "#9c179e"
             ],
             [
              0.4444444444444444,
              "#bd3786"
             ],
             [
              0.5555555555555556,
              "#d8576b"
             ],
             [
              0.6666666666666666,
              "#ed7953"
             ],
             [
              0.7777777777777778,
              "#fb9f3a"
             ],
             [
              0.8888888888888888,
              "#fdca26"
             ],
             [
              1,
              "#f0f921"
             ]
            ],
            "type": "heatmapgl"
           }
          ],
          "histogram": [
           {
            "marker": {
             "pattern": {
              "fillmode": "overlay",
              "size": 10,
              "solidity": 0.2
             }
            },
            "type": "histogram"
           }
          ],
          "histogram2d": [
           {
            "colorbar": {
             "outlinewidth": 0,
             "ticks": ""
            },
            "colorscale": [
             [
              0,
              "#0d0887"
             ],
             [
              0.1111111111111111,
              "#46039f"
             ],
             [
              0.2222222222222222,
              "#7201a8"
             ],
             [
              0.3333333333333333,
              "#9c179e"
             ],
             [
              0.4444444444444444,
              "#bd3786"
             ],
             [
              0.5555555555555556,
              "#d8576b"
             ],
             [
              0.6666666666666666,
              "#ed7953"
             ],
             [
              0.7777777777777778,
              "#fb9f3a"
             ],
             [
              0.8888888888888888,
              "#fdca26"
             ],
             [
              1,
              "#f0f921"
             ]
            ],
            "type": "histogram2d"
           }
          ],
          "histogram2dcontour": [
           {
            "colorbar": {
             "outlinewidth": 0,
             "ticks": ""
            },
            "colorscale": [
             [
              0,
              "#0d0887"
             ],
             [
              0.1111111111111111,
              "#46039f"
             ],
             [
              0.2222222222222222,
              "#7201a8"
             ],
             [
              0.3333333333333333,
              "#9c179e"
             ],
             [
              0.4444444444444444,
              "#bd3786"
             ],
             [
              0.5555555555555556,
              "#d8576b"
             ],
             [
              0.6666666666666666,
              "#ed7953"
             ],
             [
              0.7777777777777778,
              "#fb9f3a"
             ],
             [
              0.8888888888888888,
              "#fdca26"
             ],
             [
              1,
              "#f0f921"
             ]
            ],
            "type": "histogram2dcontour"
           }
          ],
          "mesh3d": [
           {
            "colorbar": {
             "outlinewidth": 0,
             "ticks": ""
            },
            "type": "mesh3d"
           }
          ],
          "parcoords": [
           {
            "line": {
             "colorbar": {
              "outlinewidth": 0,
              "ticks": ""
             }
            },
            "type": "parcoords"
           }
          ],
          "pie": [
           {
            "automargin": true,
            "type": "pie"
           }
          ],
          "scatter": [
           {
            "marker": {
             "colorbar": {
              "outlinewidth": 0,
              "ticks": ""
             }
            },
            "type": "scatter"
           }
          ],
          "scatter3d": [
           {
            "line": {
             "colorbar": {
              "outlinewidth": 0,
              "ticks": ""
             }
            },
            "marker": {
             "colorbar": {
              "outlinewidth": 0,
              "ticks": ""
             }
            },
            "type": "scatter3d"
           }
          ],
          "scattercarpet": [
           {
            "marker": {
             "colorbar": {
              "outlinewidth": 0,
              "ticks": ""
             }
            },
            "type": "scattercarpet"
           }
          ],
          "scattergeo": [
           {
            "marker": {
             "colorbar": {
              "outlinewidth": 0,
              "ticks": ""
             }
            },
            "type": "scattergeo"
           }
          ],
          "scattergl": [
           {
            "marker": {
             "colorbar": {
              "outlinewidth": 0,
              "ticks": ""
             }
            },
            "type": "scattergl"
           }
          ],
          "scattermapbox": [
           {
            "marker": {
             "colorbar": {
              "outlinewidth": 0,
              "ticks": ""
             }
            },
            "type": "scattermapbox"
           }
          ],
          "scatterpolar": [
           {
            "marker": {
             "colorbar": {
              "outlinewidth": 0,
              "ticks": ""
             }
            },
            "type": "scatterpolar"
           }
          ],
          "scatterpolargl": [
           {
            "marker": {
             "colorbar": {
              "outlinewidth": 0,
              "ticks": ""
             }
            },
            "type": "scatterpolargl"
           }
          ],
          "scatterternary": [
           {
            "marker": {
             "colorbar": {
              "outlinewidth": 0,
              "ticks": ""
             }
            },
            "type": "scatterternary"
           }
          ],
          "surface": [
           {
            "colorbar": {
             "outlinewidth": 0,
             "ticks": ""
            },
            "colorscale": [
             [
              0,
              "#0d0887"
             ],
             [
              0.1111111111111111,
              "#46039f"
             ],
             [
              0.2222222222222222,
              "#7201a8"
             ],
             [
              0.3333333333333333,
              "#9c179e"
             ],
             [
              0.4444444444444444,
              "#bd3786"
             ],
             [
              0.5555555555555556,
              "#d8576b"
             ],
             [
              0.6666666666666666,
              "#ed7953"
             ],
             [
              0.7777777777777778,
              "#fb9f3a"
             ],
             [
              0.8888888888888888,
              "#fdca26"
             ],
             [
              1,
              "#f0f921"
             ]
            ],
            "type": "surface"
           }
          ],
          "table": [
           {
            "cells": {
             "fill": {
              "color": "#EBF0F8"
             },
             "line": {
              "color": "white"
             }
            },
            "header": {
             "fill": {
              "color": "#C8D4E3"
             },
             "line": {
              "color": "white"
             }
            },
            "type": "table"
           }
          ]
         },
         "layout": {
          "annotationdefaults": {
           "arrowcolor": "#2a3f5f",
           "arrowhead": 0,
           "arrowwidth": 1
          },
          "autotypenumbers": "strict",
          "coloraxis": {
           "colorbar": {
            "outlinewidth": 0,
            "ticks": ""
           }
          },
          "colorscale": {
           "diverging": [
            [
             0,
             "#8e0152"
            ],
            [
             0.1,
             "#c51b7d"
            ],
            [
             0.2,
             "#de77ae"
            ],
            [
             0.3,
             "#f1b6da"
            ],
            [
             0.4,
             "#fde0ef"
            ],
            [
             0.5,
             "#f7f7f7"
            ],
            [
             0.6,
             "#e6f5d0"
            ],
            [
             0.7,
             "#b8e186"
            ],
            [
             0.8,
             "#7fbc41"
            ],
            [
             0.9,
             "#4d9221"
            ],
            [
             1,
             "#276419"
            ]
           ],
           "sequential": [
            [
             0,
             "#0d0887"
            ],
            [
             0.1111111111111111,
             "#46039f"
            ],
            [
             0.2222222222222222,
             "#7201a8"
            ],
            [
             0.3333333333333333,
             "#9c179e"
            ],
            [
             0.4444444444444444,
             "#bd3786"
            ],
            [
             0.5555555555555556,
             "#d8576b"
            ],
            [
             0.6666666666666666,
             "#ed7953"
            ],
            [
             0.7777777777777778,
             "#fb9f3a"
            ],
            [
             0.8888888888888888,
             "#fdca26"
            ],
            [
             1,
             "#f0f921"
            ]
           ],
           "sequentialminus": [
            [
             0,
             "#0d0887"
            ],
            [
             0.1111111111111111,
             "#46039f"
            ],
            [
             0.2222222222222222,
             "#7201a8"
            ],
            [
             0.3333333333333333,
             "#9c179e"
            ],
            [
             0.4444444444444444,
             "#bd3786"
            ],
            [
             0.5555555555555556,
             "#d8576b"
            ],
            [
             0.6666666666666666,
             "#ed7953"
            ],
            [
             0.7777777777777778,
             "#fb9f3a"
            ],
            [
             0.8888888888888888,
             "#fdca26"
            ],
            [
             1,
             "#f0f921"
            ]
           ]
          },
          "colorway": [
           "#636efa",
           "#EF553B",
           "#00cc96",
           "#ab63fa",
           "#FFA15A",
           "#19d3f3",
           "#FF6692",
           "#B6E880",
           "#FF97FF",
           "#FECB52"
          ],
          "font": {
           "color": "#2a3f5f"
          },
          "geo": {
           "bgcolor": "white",
           "lakecolor": "white",
           "landcolor": "#E5ECF6",
           "showlakes": true,
           "showland": true,
           "subunitcolor": "white"
          },
          "hoverlabel": {
           "align": "left"
          },
          "hovermode": "closest",
          "mapbox": {
           "style": "light"
          },
          "paper_bgcolor": "white",
          "plot_bgcolor": "#E5ECF6",
          "polar": {
           "angularaxis": {
            "gridcolor": "white",
            "linecolor": "white",
            "ticks": ""
           },
           "bgcolor": "#E5ECF6",
           "radialaxis": {
            "gridcolor": "white",
            "linecolor": "white",
            "ticks": ""
           }
          },
          "scene": {
           "xaxis": {
            "backgroundcolor": "#E5ECF6",
            "gridcolor": "white",
            "gridwidth": 2,
            "linecolor": "white",
            "showbackground": true,
            "ticks": "",
            "zerolinecolor": "white"
           },
           "yaxis": {
            "backgroundcolor": "#E5ECF6",
            "gridcolor": "white",
            "gridwidth": 2,
            "linecolor": "white",
            "showbackground": true,
            "ticks": "",
            "zerolinecolor": "white"
           },
           "zaxis": {
            "backgroundcolor": "#E5ECF6",
            "gridcolor": "white",
            "gridwidth": 2,
            "linecolor": "white",
            "showbackground": true,
            "ticks": "",
            "zerolinecolor": "white"
           }
          },
          "shapedefaults": {
           "line": {
            "color": "#2a3f5f"
           }
          },
          "ternary": {
           "aaxis": {
            "gridcolor": "white",
            "linecolor": "white",
            "ticks": ""
           },
           "baxis": {
            "gridcolor": "white",
            "linecolor": "white",
            "ticks": ""
           },
           "bgcolor": "#E5ECF6",
           "caxis": {
            "gridcolor": "white",
            "linecolor": "white",
            "ticks": ""
           }
          },
          "title": {
           "x": 0.05
          },
          "xaxis": {
           "automargin": true,
           "gridcolor": "white",
           "linecolor": "white",
           "ticks": "",
           "title": {
            "standoff": 15
           },
           "zerolinecolor": "white",
           "zerolinewidth": 2
          },
          "yaxis": {
           "automargin": true,
           "gridcolor": "white",
           "linecolor": "white",
           "ticks": "",
           "title": {
            "standoff": 15
           },
           "zerolinecolor": "white",
           "zerolinewidth": 2
          }
         }
        },
        "title": {
         "text": "Price vs. Delta given A factor"
        },
        "xaxis": {
         "anchor": "y",
         "domain": [
          0,
          1
         ],
         "title": {
          "text": "Delta B"
         }
        },
        "yaxis": {
         "anchor": "x",
         "domain": [
          0,
          1
         ],
         "title": {
          "text": "Price"
         }
        }
       }
      }
     },
     "metadata": {},
     "output_type": "display_data"
    }
   ],
   "source": [
    "fig = px.line(df4, x=\"Delta B\", y=\"Price\", color='A Factor',title = 'Price vs. Delta given A factor')\n",
    "fig.show()"
   ]
  },
  {
   "cell_type": "code",
   "execution_count": null,
   "metadata": {},
   "outputs": [],
   "source": [
    "df1.to_csv(\"slippageDeltaConstantUSDC.csv\")\n",
    "df2.to_csv(\"slippageDeltaConstantD.csv\")\n",
    "df3.to_csv(\"beansPerSlippage.csv\")\n",
    "df4.to_csv(\"poolPriceDelta.csv\")\n"
   ]
  }
 ],
 "metadata": {
  "kernelspec": {
   "display_name": "Python 3.10.0 64-bit",
   "language": "python",
   "name": "python3"
  },
  "language_info": {
   "codemirror_mode": {
    "name": "ipython",
    "version": 3
   },
   "file_extension": ".py",
   "mimetype": "text/x-python",
   "name": "python",
   "nbconvert_exporter": "python",
   "pygments_lexer": "ipython3",
   "version": "3.10.0"
  },
  "orig_nbformat": 4,
  "vscode": {
   "interpreter": {
    "hash": "d7c99dddd7c90bd1e94e97ec021906d14c06adc1adfe8a369747ed41b4b3d9ca"
   }
  }
 },
 "nbformat": 4,
 "nbformat_minor": 2
}
