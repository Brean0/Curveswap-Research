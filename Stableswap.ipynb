{
 "cells": [
  {
   "cell_type": "code",
   "execution_count": null,
   "metadata": {},
   "outputs": [],
   "source": [
    "import numpy as np\n",
    "import math \n",
    "import pandas as pd\n",
    "import time\n",
    "import plotly.graph_objects as go\n",
    "import random"
   ]
  },
  {
   "cell_type": "markdown",
   "metadata": {},
   "source": [
    "### Function"
   ]
  },
  {
   "cell_type": "code",
   "execution_count": null,
   "metadata": {},
   "outputs": [],
   "source": [
    "#Stableswap function that outputs token supply of Y, given X, A factor, and D (the sum of the two tokens when in parity)\n",
    "def sampleStable(x = 5,A = 10,D = 100, n = 2):\n",
    "    if x<D:\n",
    "        y = (-(A*4)*(x**2) + A*D*x*n**n - D*x + math.sqrt(((A*n**n)*(x**2) - A*D*x*n**n + D*x)**2 + 4*A*x*n**n*((D**(n+1))/n**n)))/(2*A*x*n**n)\n",
    "        return y\n",
    "\n",
    "#given the usdc side, and the price, output the bean and usdc in pool at price, and total assets (D) when in parity\n",
    "def stableSwap(usdc,pri,A = 10):\n",
    "    if A == 0:\n",
    "        #special case for XYK\n",
    "        return [usdc/pri, usdc, 2*math.sqrt(usdc*usdc/pri)]\n",
    "    inital_D = usdc*2\n",
    "    inital_bean = usdc\n",
    "    #simple for loop that estimates conditions\n",
    "    for i in np.linspace(0,1,1000):\n",
    "        #TLDR: trying to find D: we start with the inital D, and increase it stepwise until we find the correct D, which then we can find the bean assoicated with it) \n",
    "        temp_D = inital_D/(1+i)\n",
    "        amtOut = sampleStable(usdc,A,temp_D,2) - sampleStable(usdc + 1,A,temp_D,2)\n",
    "        #since this is a guesstimate (an accurate one, but still), we simply compare them lmao\n",
    "        if abs(pri - (1/amtOut)) < 0.00008 :\n",
    "            newBean = sampleStable(usdc,10,temp_D,2)\n",
    "            D = temp_D\n",
    "            break\n",
    "    return [newBean,usdc,D]\n",
    "\n",
    "#given bean,usdc,D size, and A factor, output price \n",
    "def getPrice(Bean,usdc,D, amtIn = 1,A=10):\n",
    "    amtOut =sampleStable(usdc,A,D,2) - sampleStable(usdc + amtIn,A,D,2)\n",
    "    price = amtIn/amtOut\n",
    "    return price\n",
    "\n",
    "#given bean,usdc,D, gives the delta (mints needed to get back to peg)\n",
    "def getDelta(bean,usdc,D):\n",
    "    target = D/2\n",
    "    delta = target - bean\n",
    "    return delta \n",
    "\n",
    "#very rough calc, just takes the current mint, and finds the rough apr by exploiating it to a year \n",
    "def roughAPR(mints,stalk):\n",
    "    beanPerStalk = mints/stalk\n",
    "    APR = beanPerStalk*24*365\n",
    "\n",
    "#this simulates a cycle of demand (there may be times where there is a lot of mints, and times where there is no mints)\n",
    "def cycleMode(season,avgPrice): \n",
    "    price = (math.sin(2* season/24)/25 + avgPrice) + (math.sin(50*season*(random.randint(0, 100)/100))/100)\n",
    "    return price                "
   ]
  }
 ],
 "metadata": {
  "language_info": {
   "name": "python"
  },
  "orig_nbformat": 4
 },
 "nbformat": 4,
 "nbformat_minor": 2
}
